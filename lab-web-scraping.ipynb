{
  "cells": [
    {
      "cell_type": "markdown",
      "id": "7e7a1ab8-2599-417d-9a65-25ef07f3a786",
      "metadata": {
        "id": "7e7a1ab8-2599-417d-9a65-25ef07f3a786"
      },
      "source": [
        "# Lab | Web Scraping"
      ]
    },
    {
      "cell_type": "markdown",
      "id": "ce8882fc-4815-4567-92fa-b4816358ba7d",
      "metadata": {
        "id": "ce8882fc-4815-4567-92fa-b4816358ba7d"
      },
      "source": [
        "Welcome to the \"Books to Scrape\" Web Scraping Adventure Lab!\n",
        "\n",
        "**Objective**\n",
        "\n",
        "In this lab, we will embark on a mission to unearth valuable insights from the data available on Books to Scrape, an online platform showcasing a wide variety of books. As data analyst, you have been tasked with scraping a specific subset of book data from Books to Scrape to assist publishing companies in understanding the landscape of highly-rated books across different genres. Your insights will help shape future book marketing strategies and publishing decisions.\n",
        "\n",
        "**Background**\n",
        "\n",
        "In a world where data has become the new currency, businesses are leveraging big data to make informed decisions that drive success and profitability. The publishing industry, much like others, utilizes data analytics to understand market trends, reader preferences, and the performance of books based on factors such as genre, author, and ratings. Books to Scrape serves as a rich source of such data, offering detailed information about a diverse range of books, making it an ideal platform for extracting insights to aid in informed decision-making within the literary world.\n",
        "\n",
        "**Task**\n",
        "\n",
        "Your task is to create a Python script using BeautifulSoup and pandas to scrape Books to Scrape book data, focusing on book ratings and genres. The script should be able to filter books with ratings above a certain threshold and in specific genres. Additionally, the script should structure the scraped data in a tabular format using pandas for further analysis.\n",
        "\n",
        "**Expected Outcome**\n",
        "\n",
        "A function named `scrape_books` that takes two parameters: `min_rating` and `max_price`. The function should scrape book data from the \"Books to Scrape\" website and return a `pandas` DataFrame with the following columns:\n",
        "\n",
        "**Expected Outcome**\n",
        "\n",
        "- A function named `scrape_books` that takes two parameters: `min_rating` and `max_price`.\n",
        "- The function should return a DataFrame with the following columns:\n",
        "  - **UPC**: The Universal Product Code (UPC) of the book.\n",
        "  - **Title**: The title of the book.\n",
        "  - **Price (£)**: The price of the book in pounds.\n",
        "  - **Rating**: The rating of the book (1-5 stars).\n",
        "  - **Genre**: The genre of the book.\n",
        "  - **Availability**: Whether the book is in stock or not.\n",
        "  - **Description**: A brief description or product description of the book (if available).\n",
        "  \n",
        "You will execute this script to scrape data for books with a minimum rating of `4.0 and above` and a maximum price of `£20`. \n",
        "\n",
        "Remember to experiment with different ratings and prices to ensure your code is versatile and can handle various searches effectively!\n",
        "\n",
        "**Resources**\n",
        "\n",
        "- [Beautiful Soup Documentation](https://www.crummy.com/software/BeautifulSoup/bs4/doc/)\n",
        "- [Pandas Documentation](https://pandas.pydata.org/pandas-docs/stable/index.html)\n",
        "- [Books to Scrape](https://books.toscrape.com/)\n"
      ]
    },
    {
      "cell_type": "markdown",
      "id": "3519921d-5890-445b-9a33-934ed8ee378c",
      "metadata": {
        "id": "3519921d-5890-445b-9a33-934ed8ee378c"
      },
      "source": [
        "**Hint**\n",
        "\n",
        "Your first mission is to familiarize yourself with the **Books to Scrape** website. Navigate to [Books to Scrape](http://books.toscrape.com/) and explore the available books to understand their layout and structure. \n",
        "\n",
        "Next, think about how you can set parameters for your data extraction:\n",
        "\n",
        "- **Minimum Rating**: Focus on books with a rating of 4.0 and above.\n",
        "- **Maximum Price**: Filter for books priced up to £20.\n",
        "\n",
        "After reviewing the site, you can construct a plan for scraping relevant data. Pay attention to the details displayed for each book, including the title, price, rating, and availability. This will help you identify the correct HTML elements to target with your scraping script.\n",
        "\n",
        "Make sure to build your scraping URL and logic based on the patterns you observe in the HTML structure of the book listings!"
      ]
    },
    {
      "cell_type": "markdown",
      "id": "25a83a0d-a742-49f6-985e-e27887cbf922",
      "metadata": {
        "id": "25a83a0d-a742-49f6-985e-e27887cbf922"
      },
      "source": [
        "\n",
        "---\n",
        "\n",
        "**Best of luck! Immerse yourself in the world of books, and may the data be with you!**"
      ]
    },
    {
      "cell_type": "markdown",
      "id": "7b75cf0d-9afa-4eec-a9e2-befeac68b2a0",
      "metadata": {
        "id": "7b75cf0d-9afa-4eec-a9e2-befeac68b2a0"
      },
      "source": [
        "**Important Note**:\n",
        "\n",
        "In the fast-changing online world, websites often update and change their structures. When you try this lab, the **Books to Scrape** website might differ from what you expect.\n",
        "\n",
        "If you encounter issues due to these changes, like new rules or obstacles preventing data extraction, don’t worry! Get creative.\n",
        "\n",
        "You can choose another website that interests you and is suitable for scraping data. Options like Wikipedia, The New York Times, or even library databases are great alternatives. The main goal remains the same: extract useful data and enhance your web scraping skills while exploring a source of information you enjoy. This is your opportunity to practice and adapt to different web environments!"
      ]
    },
    {
      "cell_type": "code",
      "execution_count": 1,
      "id": "40359eee-9cd7-4884-bfa4-83344c222305",
      "metadata": {
        "id": "40359eee-9cd7-4884-bfa4-83344c222305"
      },
      "outputs": [],
      "source": [
        "import requests\n",
        "from bs4 import BeautifulSoup\n",
        "import pandas as pd\n",
        "import re\n",
        "\n",
        "# Helper function to convert star rating text to a numeric rating\n",
        "def convert_rating(rating):\n",
        "    rating_map = {'One': 1, 'Two': 2, 'Three': 3, 'Four': 4, 'Five': 5}\n",
        "    return rating_map.get(rating, 0)\n",
        "\n",
        "# Helper function to clean and convert price to a float\n",
        "def clean_price(price_str):\n",
        "    cleaned_price = re.sub(r'[^\\d\\.]', '', price_str)\n",
        "    return float(cleaned_price)\n",
        "\n",
        "def scrape_books(min_rating=4, max_price=20):\n",
        "    base_url = 'http://books.toscrape.com'\n",
        "    books = []\n",
        "\n",
        "    # Iterate through pages until there are no more books\n",
        "    for page_num in range(1, 51):\n",
        "        url = 'http://books.toscrape.com/catalogue/page-' + str(page_num) + \".html\"\n",
        "        response = requests.get(url)\n",
        "        soup = BeautifulSoup(response.text, 'html.parser')\n",
        "        \n",
        "        # Find all book items on the current page\n",
        "        book_items = soup.find_all('article', class_='product_pod')\n",
        "        \n",
        "        for book in book_items:\n",
        "            \n",
        "            title = book.h3.a['title']\n",
        "            price_str = book.find('p', class_='price_color').text.strip()\n",
        "            price = clean_price(price_str)\n",
        "            rating = convert_rating(book.p['class'][-1])  # Extract star rating from the class name\n",
        "            \n",
        "            # Filtering based on min_rating and max_price\n",
        "            if rating >= min_rating and price <= max_price:\n",
        "                book_url = 'http://books.toscrape.com'\n",
        "                book_response = requests.get(book_url)\n",
        "                book_soup = BeautifulSoup(book_response.text, 'html.parser')\n",
        "                \n",
        "                # Append the extracted data to the list\n",
        "                books.append({\n",
        "                    'Title': title,\n",
        "                    'Price (£)': price,\n",
        "                    'Rating': rating,\n",
        "                    'Page' : page_num\n",
        "                })\n",
        "\n",
        "        # Stop scraping if no more books are found on the current page\n",
        "        if not book_items:\n",
        "            break\n",
        "\n",
        "    df = pd.DataFrame(books)\n",
        "    return df"
      ]
    },
    {
      "cell_type": "code",
      "execution_count": 2,
      "id": "fac0caa1",
      "metadata": {},
      "outputs": [
        {
          "name": "stdout",
          "output_type": "stream",
          "text": [
            "                                               Title  Price (£)  Rating  Page\n",
            "0  The Coming Woman: A Novel Based on the Life of...      17.93       3     1\n",
            "1     Starving Hearts (Triangular Trade Trilogy, #1)      13.99       2     1\n",
            "2                                        Set Me Free      17.46       5     1\n",
            "3                                        In Her Wake      12.84       1     2\n",
            "4  The Four Agreements: A Practical Guide to Pers...      17.66       5     2\n"
          ]
        }
      ],
      "source": [
        "df = scrape_books(min_rating=1, max_price=20)\n",
        "print(df.head())"
      ]
    }
  ],
  "metadata": {
    "colab": {
      "provenance": []
    },
    "kernelspec": {
      "display_name": "base",
      "language": "python",
      "name": "python3"
    },
    "language_info": {
      "codemirror_mode": {
        "name": "ipython",
        "version": 3
      },
      "file_extension": ".py",
      "mimetype": "text/x-python",
      "name": "python",
      "nbconvert_exporter": "python",
      "pygments_lexer": "ipython3",
      "version": "3.12.4"
    }
  },
  "nbformat": 4,
  "nbformat_minor": 5
}
